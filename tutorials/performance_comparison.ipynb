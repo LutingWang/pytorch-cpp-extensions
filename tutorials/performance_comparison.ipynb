{
    "cells": [
        {
            "cell_type": "code",
            "execution_count": 1,
            "metadata": {},
            "outputs": [
                {
                    "name": "stderr",
                    "output_type": "stream",
                    "text": [
                        "/hy-tmp/todd/lib/python3.9/site-packages/tqdm/auto.py:22: TqdmWarning: IProgress not found. Please update jupyter and ipywidgets. See https://ipywidgets.readthedocs.io/en/stable/user_install.html\n",
                        "  from .autonotebook import tqdm as notebook_tqdm\n"
                    ]
                }
            ],
            "source": [
                "import torch\n",
                "\n",
                "from pytorch_cpp_extensions.standardize import (\n",
                "    standardize,\n",
                "    standardize_cpp,\n",
                "    standardize_cuda,\n",
                ")"
            ]
        },
        {
            "cell_type": "code",
            "execution_count": 2,
            "metadata": {},
            "outputs": [
                {
                    "name": "stdout",
                    "output_type": "stream",
                    "text": [
                        "Python\n",
                        "5.27 ms ± 405 µs per loop (mean ± std. dev. of 7 runs, 100 loops each)\n",
                        "C++\n",
                        "6.03 ms ± 1.42 ms per loop (mean ± std. dev. of 7 runs, 100 loops each)\n"
                    ]
                }
            ],
            "source": [
                "input_ = torch.rand(1000, 128, requires_grad=True)\n",
                "\n",
                "print(\"Python\")\n",
                "%timeit standardize(input_).sum().backward()\n",
                "\n",
                "if standardize_cpp is not None:\n",
                "    print(\"C++\")\n",
                "    %timeit standardize_cpp(input_).sum().backward()"
            ]
        },
        {
            "cell_type": "code",
            "execution_count": 3,
            "metadata": {},
            "outputs": [
                {
                    "name": "stdout",
                    "output_type": "stream",
                    "text": [
                        "Python\n",
                        "816 µs ± 29.3 µs per loop (mean ± std. dev. of 7 runs, 1,000 loops each)\n",
                        "C++\n",
                        "507 µs ± 49.1 µs per loop (mean ± std. dev. of 7 runs, 1,000 loops each)\n",
                        "CUDA\n",
                        "589 µs ± 12.5 µs per loop (mean ± std. dev. of 7 runs, 1,000 loops each)\n"
                    ]
                }
            ],
            "source": [
                "if torch.cuda.is_available():\n",
                "    input_ = torch.rand(1000, 128, device='cuda', requires_grad=True)\n",
                "    print(\"Python\")\n",
                "    %timeit standardize(input_).sum().backward(); torch.cuda.synchronize()\n",
                "    if standardize_cpp is not None:\n",
                "        print(\"C++\")\n",
                "        %timeit standardize_cpp(input_).sum().backward(); torch.cuda.synchronize()\n",
                "    if standardize_cuda is not None:\n",
                "        print(\"CUDA\")\n",
                "        %timeit standardize_cuda(input_).sum().backward(); torch.cuda.synchronize()"
            ]
        }
    ],
    "metadata": {
        "kernelspec": {
            "display_name": "Python 3.9.15",
            "language": "python",
            "name": "python3"
        },
        "language_info": {
            "codemirror_mode": {
                "name": "ipython",
                "version": 3
            },
            "file_extension": ".py",
            "mimetype": "text/x-python",
            "name": "python",
            "nbconvert_exporter": "python",
            "pygments_lexer": "ipython3",
            "version": "3.9.15"
        },
        "orig_nbformat": 4,
        "vscode": {
            "interpreter": {
                "hash": "a2eb9dfd407c3bc291709bd405997c25472f9e8fd55606a7adcd8972619a02b0"
            }
        }
    },
    "nbformat": 4,
    "nbformat_minor": 2
}
