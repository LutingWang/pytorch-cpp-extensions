{
 "cells": [
  {
   "cell_type": "code",
   "execution_count": 1,
   "metadata": {},
   "outputs": [],
   "source": [
    "import torch\n",
    "\n",
    "from pytorch_cpp_extensions.custom_batch_norm import (\n",
    "    custom_batch_norm,\n",
    "    custom_batch_norm_cpp,\n",
    "    custom_batch_norm_cuda,\n",
    ")"
   ]
  },
  {
   "cell_type": "code",
   "execution_count": 4,
   "metadata": {},
   "outputs": [
    {
     "name": "stdout",
     "output_type": "stream",
     "text": [
      "Python\n",
      "718 µs ± 5.7 µs per loop (mean ± std. dev. of 7 runs, 1,000 loops each)\n",
      "C++\n",
      "669 µs ± 19.8 µs per loop (mean ± std. dev. of 7 runs, 1,000 loops each)\n"
     ]
    }
   ],
   "source": [
    "input_ = torch.rand(1000, 128, requires_grad=True)\n",
    "\n",
    "print(\"Python\")\n",
    "%timeit custom_batch_norm(input_).sum().backward()\n",
    "\n",
    "if custom_batch_norm_cpp is not None:\n",
    "    print(\"C++\")\n",
    "    %timeit custom_batch_norm_cpp(input_).sum().backward()"
   ]
  },
  {
   "cell_type": "code",
   "execution_count": null,
   "metadata": {},
   "outputs": [],
   "source": [
    "if torch.cuda.is_available():\n",
    "    input_ = torch.rand(1000, 128, device='cuda', requires_grad=True)\n",
    "    print(\"Python\")\n",
    "    %timeit custom_batch_norm(input_).sum().backward()\n",
    "    if custom_batch_norm_cpp is not None:\n",
    "        print(\"C++\")\n",
    "        %timeit custom_batch_norm_cpp(input_).sum().backward()\n",
    "    if custom_batch_norm_cuda is not None:\n",
    "        print(\"CUDA\")\n",
    "        %timeit custom_batch_norm_cuda(input_).sum().backward()"
   ]
  }
 ],
 "metadata": {
  "kernelspec": {
   "display_name": "Python 3.10.4 ('todd')",
   "language": "python",
   "name": "python3"
  },
  "language_info": {
   "codemirror_mode": {
    "name": "ipython",
    "version": 3
   },
   "file_extension": ".py",
   "mimetype": "text/x-python",
   "name": "python",
   "nbconvert_exporter": "python",
   "pygments_lexer": "ipython3",
   "version": "3.10.4"
  },
  "orig_nbformat": 4,
  "vscode": {
   "interpreter": {
    "hash": "0fe19504897982c0d86de0bd38ea30a541b47032e25039ac5ae6cd1de5b1a414"
   }
  }
 },
 "nbformat": 4,
 "nbformat_minor": 2
}
